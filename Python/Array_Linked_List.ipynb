{
 "cells": [
  {
   "cell_type": "markdown",
   "id": "777751fa",
   "metadata": {},
   "source": [
    "# Array"
   ]
  },
  {
   "cell_type": "markdown",
   "id": "11cba9b6",
   "metadata": {},
   "source": [
    "- 메모리 공간 기반의 연속 (contiguous) 방식 => 배열\n",
    "- 포인터 기반의 연결 (link) 방식\n",
    "\n",
    "ADT(Abstract Data Type)은 대부분 배열 또는 연결 리스트 기반\n",
    "ex. 스택 - 연결리스트, 큐 - 배열"
   ]
  },
  {
   "cell_type": "markdown",
   "id": "b6e4f910",
   "metadata": {},
   "source": [
    "배열\n",
    "- 고정된 크기만큼의 연속된 메모리 할당 -> 고정된 크기 해결 위해 동적 배열 후에 등장\n",
    "    - 늘려주고 복사하는 더블링으로 동적 배열\n",
    "    - 용량이 차면 새로운 메모리 할당하고 복사하는 작업이 필요하므로 O(n) 필요\n",
    "- O(1)로 조회 가능"
   ]
  },
  {
   "cell_type": "markdown",
   "id": "63ae5dab",
   "metadata": {},
   "source": [
    "# Two Sum"
   ]
  },
  {
   "cell_type": "markdown",
   "id": "ace044e0",
   "metadata": {},
   "source": [
    "덧셈하여 타겟을 만들 수 있는 배열의 두 숫자 인덱스를 리턴하라"
   ]
  },
  {
   "cell_type": "code",
   "execution_count": 4,
   "id": "3f29cf80",
   "metadata": {},
   "outputs": [],
   "source": [
    "nums = [2, 11, 7, 15]\n",
    "target = 9"
   ]
  },
  {
   "cell_type": "markdown",
   "id": "7d94fa2c",
   "metadata": {},
   "source": [
    "브루트 폴스"
   ]
  },
  {
   "cell_type": "code",
   "execution_count": 10,
   "id": "168c610f",
   "metadata": {},
   "outputs": [],
   "source": [
    "from typing import List\n",
    "def two_sum(nums: List[int], target: int) -> List[int]: \n",
    "    for i in range(len(nums)):\n",
    "        j = i + 1\n",
    "        while j < len(nums):\n",
    "            if nums[i] + nums[j] == target:\n",
    "                return [i,j]\n",
    "            j += 1\n",
    "    return None"
   ]
  },
  {
   "cell_type": "code",
   "execution_count": 11,
   "id": "0ee5ed4e",
   "metadata": {},
   "outputs": [
    {
     "data": {
      "text/plain": [
       "[0, 2]"
      ]
     },
     "execution_count": 11,
     "metadata": {},
     "output_type": "execute_result"
    }
   ],
   "source": [
    "two_sum(nums, target)"
   ]
  },
  {
   "cell_type": "markdown",
   "id": "bcedacb8",
   "metadata": {},
   "source": [
    "in 을 이용한 방법"
   ]
  },
  {
   "cell_type": "code",
   "execution_count": 16,
   "id": "028596f4",
   "metadata": {},
   "outputs": [],
   "source": [
    "def two_sum_in(nums: List[int], target: int) -> List[int]:\n",
    "    for i, n in enumerate(nums):\n",
    "        complement = target - n\n",
    "        \n",
    "        if complement in nums[i+1:]:\n",
    "            return [i, nums[i+1:].index(complement)+i+1]"
   ]
  },
  {
   "cell_type": "code",
   "execution_count": 17,
   "id": "bb28cbac",
   "metadata": {},
   "outputs": [
    {
     "data": {
      "text/plain": [
       "[0, 2]"
      ]
     },
     "execution_count": 17,
     "metadata": {},
     "output_type": "execute_result"
    }
   ],
   "source": [
    "two_sum_in(nums, target)"
   ]
  },
  {
   "cell_type": "markdown",
   "id": "70b2045d",
   "metadata": {},
   "source": [
    "hasy key를 이용한 방법"
   ]
  },
  {
   "cell_type": "code",
   "execution_count": 20,
   "id": "9d64064b",
   "metadata": {},
   "outputs": [],
   "source": [
    "def two_sum_key(nums: List[int], target: int) -> List[int]:\n",
    "    nums_map = {}\n",
    "    for i, n in enumerate(nums):\n",
    "        nums_map[n] = i\n",
    "    for i, n in enumerate(nums):\n",
    "        if target - n in nums_map and\\\n",
    "            i != nums_map[target - n]:\n",
    "            return [i, nums_map[target - n]]"
   ]
  },
  {
   "cell_type": "code",
   "execution_count": 21,
   "id": "5418734a",
   "metadata": {},
   "outputs": [
    {
     "data": {
      "text/plain": [
       "[0, 2]"
      ]
     },
     "execution_count": 21,
     "metadata": {},
     "output_type": "execute_result"
    }
   ],
   "source": [
    "two_sum_key(nums, target)"
   ]
  },
  {
   "cell_type": "markdown",
   "id": "aa0fcae7",
   "metadata": {},
   "source": [
    "hasy key 이용한 방법 개선 (clean)"
   ]
  },
  {
   "cell_type": "code",
   "execution_count": 26,
   "id": "8c8d51e8",
   "metadata": {},
   "outputs": [],
   "source": [
    "def two_sum_key2(nums: List[int], target: int) -> List[int]:\n",
    "    nums_map = {}\n",
    "    for i, n in enumerate(nums):\n",
    "        if target - n in nums_map:\n",
    "            return [nums_map[target-n], i]\n",
    "        nums_map[n] = i"
   ]
  },
  {
   "cell_type": "code",
   "execution_count": 27,
   "id": "12d8c584",
   "metadata": {},
   "outputs": [
    {
     "data": {
      "text/plain": [
       "[0, 2]"
      ]
     },
     "execution_count": 27,
     "metadata": {},
     "output_type": "execute_result"
    }
   ],
   "source": [
    "two_sum_key2(nums, target)"
   ]
  },
  {
   "cell_type": "markdown",
   "id": "e70bf6e4",
   "metadata": {},
   "source": [
    "# Trapping Rain Water"
   ]
  },
  {
   "cell_type": "code",
   "execution_count": 9,
   "id": "98d5edbb",
   "metadata": {},
   "outputs": [
    {
     "data": {
      "text/plain": [
       "12"
      ]
     },
     "execution_count": 9,
     "metadata": {},
     "output_type": "execute_result"
    }
   ],
   "source": [
    "height = [0, 1, 0, 2, 1, 0, 1, 3, 2, 1, 2, 1]\n",
    "len(height)"
   ]
  },
  {
   "cell_type": "markdown",
   "id": "3fe64dbc",
   "metadata": {},
   "source": [
    "투 포인터 방식"
   ]
  },
  {
   "cell_type": "code",
   "execution_count": 7,
   "id": "4c8d8f4e",
   "metadata": {},
   "outputs": [],
   "source": [
    "from typing import List\n",
    "def trap(height: List[int]) -> int:\n",
    "    if not height:\n",
    "        return 0\n",
    "    \n",
    "    volume = 0\n",
    "    left, right = 0, len(height) -1\n",
    "    left_max, right_max = height[left], height[right]\n",
    "    \n",
    "    while left < right:\n",
    "        left_max, right_max = max(height[left], left_max), max(height[right], right_max)\n",
    "        print(left, right, left_max, right_max)\n",
    "        if left_max <= right_max:\n",
    "            volume += left_max - height[left]\n",
    "            print(volume)\n",
    "            left += 1\n",
    "        else:\n",
    "            volume += right_max - height[right]\n",
    "            print(volume)\n",
    "            right -= 1\n",
    "    return volume"
   ]
  },
  {
   "cell_type": "code",
   "execution_count": 8,
   "id": "f70cd085",
   "metadata": {},
   "outputs": [
    {
     "name": "stdout",
     "output_type": "stream",
     "text": [
      "0 11 0 1\n",
      "0\n",
      "1 11 1 1\n",
      "0\n",
      "2 11 1 1\n",
      "1\n",
      "3 11 2 1\n",
      "1\n",
      "3 10 2 2\n",
      "1\n",
      "4 10 2 2\n",
      "2\n",
      "5 10 2 2\n",
      "4\n",
      "6 10 2 2\n",
      "5\n",
      "7 10 3 2\n",
      "5\n",
      "7 9 3 2\n",
      "6\n",
      "7 8 3 2\n",
      "6\n"
     ]
    },
    {
     "data": {
      "text/plain": [
       "6"
      ]
     },
     "execution_count": 8,
     "metadata": {},
     "output_type": "execute_result"
    }
   ],
   "source": [
    "trap(height)"
   ]
  },
  {
   "cell_type": "markdown",
   "id": "6c69579a",
   "metadata": {},
   "source": [
    "스택 방식"
   ]
  },
  {
   "cell_type": "code",
   "execution_count": 16,
   "id": "7de22a4a",
   "metadata": {},
   "outputs": [],
   "source": [
    "def trap_stack(height: List[int]) -> int:\n",
    "    stack = []\n",
    "    volume = 0\n",
    "    \n",
    "    for i in range(len(height)):\n",
    "        print(stack)\n",
    "        while stack and height[i] > height[stack[-1]]:\n",
    "            top = stack.pop()\n",
    "            if not len(stack):\n",
    "                break\n",
    "            distance = i - stack[-1] - 1\n",
    "            waters = min(height[i], height[stack[-1]]) - height[top]\n",
    "            volume += distance * waters\n",
    "            print(i, distance, waters, volume)\n",
    "        stack.append(i)\n",
    "    return volume"
   ]
  },
  {
   "cell_type": "code",
   "execution_count": 17,
   "id": "865c30ff",
   "metadata": {},
   "outputs": [
    {
     "name": "stdout",
     "output_type": "stream",
     "text": [
      "[]\n",
      "[0]\n",
      "[1]\n",
      "[1, 2]\n",
      "3 1 1 1\n",
      "[3]\n",
      "[3, 4]\n",
      "[3, 4, 5]\n",
      "6 1 1 2\n",
      "[3, 4, 6]\n",
      "7 2 0 2\n",
      "7 3 1 5\n",
      "[7]\n",
      "[7, 8]\n",
      "[7, 8, 9]\n",
      "10 1 1 6\n",
      "[7, 8, 10]\n"
     ]
    },
    {
     "data": {
      "text/plain": [
       "6"
      ]
     },
     "execution_count": 17,
     "metadata": {},
     "output_type": "execute_result"
    }
   ],
   "source": [
    "trap_stack(height)"
   ]
  },
  {
   "cell_type": "code",
   "execution_count": 15,
   "id": "56f6adc7",
   "metadata": {},
   "outputs": [
    {
     "data": {
      "text/plain": [
       "True"
      ]
     },
     "execution_count": 15,
     "metadata": {},
     "output_type": "execute_result"
    }
   ],
   "source": [
    "(not len([]))"
   ]
  },
  {
   "cell_type": "markdown",
   "id": "d215d2a9",
   "metadata": {},
   "source": [
    "# Three Sum"
   ]
  },
  {
   "cell_type": "markdown",
   "id": "fb48a6c1",
   "metadata": {},
   "source": [
    "배열을 입력받아 합으로 0을 만들 수 있는 3 개의 엘리먼트를 출력하라"
   ]
  },
  {
   "cell_type": "code",
   "execution_count": 18,
   "id": "8b4bb4b0",
   "metadata": {},
   "outputs": [],
   "source": [
    "nums = [-1, 0, 1, 2, -1, -4]"
   ]
  },
  {
   "cell_type": "code",
   "execution_count": 57,
   "id": "a5cc9395",
   "metadata": {},
   "outputs": [],
   "source": [
    "def three_sum(nums: List[int]) -> List[List[int]]:\n",
    "    result = []\n",
    "    nums.sort()\n",
    "    print(nums)\n",
    "    for i in range(len(nums) - 2):\n",
    "        for j in range(i+1, len(nums) -1):\n",
    "            for k in range(j+1, len(nums)):\n",
    "                if nums[i] + nums[j] + nums[k] == 0:\n",
    "                    if [nums[i], nums[j], nums[k]] not in result:\n",
    "                        result.append([nums[i], nums[j], nums[k]])\n",
    "    return result"
   ]
  },
  {
   "cell_type": "code",
   "execution_count": 58,
   "id": "bcf86c41",
   "metadata": {},
   "outputs": [
    {
     "name": "stdout",
     "output_type": "stream",
     "text": [
      "[-4, -1, -1, 0, 1, 2]\n"
     ]
    },
    {
     "data": {
      "text/plain": [
       "[[-1, -1, 2], [-1, 0, 1]]"
      ]
     },
     "execution_count": 58,
     "metadata": {},
     "output_type": "execute_result"
    }
   ],
   "source": [
    "three_sum(nums)"
   ]
  },
  {
   "cell_type": "code",
   "execution_count": 61,
   "id": "21c1213d",
   "metadata": {},
   "outputs": [],
   "source": [
    "def three_sum_pointer(nums: List[int]) -> List[List[int]]:\n",
    "    result = []\n",
    "    nums.sort()\n",
    "    \n",
    "    for i in range(len(nums) - 2):\n",
    "        left, right = i + 1, len(nums) - 1\n",
    "        while left < right:\n",
    "            sums = nums[i] + nums[left] + nums[right]\n",
    "            if sums == 0:\n",
    "                if [nums[i], nums[left], nums[right]] not in result:\n",
    "                    result.append([nums[i], nums[left], nums[right]])\n",
    "                left += 1\n",
    "                right -= 1\n",
    "                \n",
    "            elif sums > 0:\n",
    "                right -= 1\n",
    "            else:\n",
    "                left += 1\n",
    "    return result\n",
    "\n",
    "    "
   ]
  },
  {
   "cell_type": "code",
   "execution_count": 62,
   "id": "be26dc5b",
   "metadata": {},
   "outputs": [
    {
     "data": {
      "text/plain": [
       "[[-1, -1, 2], [-1, 0, 1]]"
      ]
     },
     "execution_count": 62,
     "metadata": {},
     "output_type": "execute_result"
    }
   ],
   "source": [
    "three_sum_pointer(nums)"
   ]
  },
  {
   "cell_type": "markdown",
   "id": "b9c16e4c",
   "metadata": {},
   "source": [
    "# Array Partition 1"
   ]
  },
  {
   "cell_type": "markdown",
   "id": "ba6b8396",
   "metadata": {},
   "source": [
    "n 개의 페어를 이용한 min(a,b)의 합으로 만들 수 있는 가장 큰 수를 출력하라."
   ]
  },
  {
   "cell_type": "code",
   "execution_count": 63,
   "id": "58f7f3b8",
   "metadata": {},
   "outputs": [],
   "source": [
    "nums = [1, 4, 3, 2]"
   ]
  },
  {
   "cell_type": "code",
   "execution_count": 64,
   "id": "297338d1",
   "metadata": {},
   "outputs": [],
   "source": [
    "def array_partition1(nums: List[int]) -> int:\n",
    "    nums.sort()\n",
    "    min_sum = 0\n",
    "    for i in range(len(nums)//2):\n",
    "        min_sum += min(nums[2*i], nums[2*i+1])\n",
    "    return min_sum"
   ]
  },
  {
   "cell_type": "code",
   "execution_count": 65,
   "id": "fc7f1d2e",
   "metadata": {},
   "outputs": [
    {
     "data": {
      "text/plain": [
       "4"
      ]
     },
     "execution_count": 65,
     "metadata": {},
     "output_type": "execute_result"
    }
   ],
   "source": [
    "array_partition1(nums)"
   ]
  },
  {
   "cell_type": "code",
   "execution_count": 67,
   "id": "fa4844ae",
   "metadata": {},
   "outputs": [],
   "source": [
    "def array_partition1_even(nums: List[int]) -> int:\n",
    "    nums.sort()\n",
    "    min_sum = 0\n",
    "    for i in range(len(nums)//2):\n",
    "        min_sum += nums[2*i]\n",
    "    return min_sum    "
   ]
  },
  {
   "cell_type": "code",
   "execution_count": 68,
   "id": "2ecaa176",
   "metadata": {},
   "outputs": [
    {
     "data": {
      "text/plain": [
       "4"
      ]
     },
     "execution_count": 68,
     "metadata": {},
     "output_type": "execute_result"
    }
   ],
   "source": [
    "array_partition1_even(nums)"
   ]
  },
  {
   "cell_type": "code",
   "execution_count": 72,
   "id": "4702b368",
   "metadata": {},
   "outputs": [],
   "source": [
    "def array_partition1_pythonic(nums: List[int]) -> int:\n",
    "    return sum(sorted(nums)[::2])"
   ]
  },
  {
   "cell_type": "code",
   "execution_count": 73,
   "id": "7bdccf5f",
   "metadata": {},
   "outputs": [
    {
     "data": {
      "text/plain": [
       "4"
      ]
     },
     "execution_count": 73,
     "metadata": {},
     "output_type": "execute_result"
    }
   ],
   "source": [
    "array_partition1_pythonic(nums)"
   ]
  },
  {
   "cell_type": "code",
   "execution_count": 74,
   "id": "1aa61570",
   "metadata": {},
   "outputs": [
    {
     "name": "stdout",
     "output_type": "stream",
     "text": [
      "9.822845458984375e-05\n",
      "8.821487426757812e-05\n",
      "8.702278137207031e-05\n"
     ]
    }
   ],
   "source": [
    "import time\n",
    "\n",
    "start = time.time()\n",
    "array_partition1(nums)\n",
    "end = time.time()\n",
    "print(end-start)\n",
    "\n",
    "start = time.time()\n",
    "array_partition1_even(nums)\n",
    "end = time.time()\n",
    "print(end-start)\n",
    "\n",
    "start = time.time()\n",
    "array_partition1_pythonic(nums)\n",
    "end = time.time()\n",
    "print(end-start)"
   ]
  },
  {
   "cell_type": "markdown",
   "id": "66f76c35",
   "metadata": {},
   "source": [
    "# Product of Array Except Self"
   ]
  },
  {
   "cell_type": "code",
   "execution_count": 75,
   "id": "7fce7e24",
   "metadata": {},
   "outputs": [],
   "source": [
    "nums = [1, 2, 3, 4]"
   ]
  },
  {
   "cell_type": "code",
   "execution_count": 76,
   "id": "b0188c50",
   "metadata": {},
   "outputs": [],
   "source": [
    "def product_except(nums: List[int]) -> List[int]:\n",
    "    left = [1]\n",
    "    right = [1]\n",
    "    \n",
    "    for i in range(len(nums)-1):\n",
    "        left.append(left[i] * nums[i])\n",
    "        right.append(right[i] * nums[-1-i])\n",
    "        \n",
    "    return [left[i]*right[-i-1] for i in range(len(left))]"
   ]
  },
  {
   "cell_type": "code",
   "execution_count": 77,
   "id": "1ab5b96c",
   "metadata": {},
   "outputs": [
    {
     "data": {
      "text/plain": [
       "[24, 12, 8, 6]"
      ]
     },
     "execution_count": 77,
     "metadata": {},
     "output_type": "execute_result"
    }
   ],
   "source": [
    "product_except(nums)"
   ]
  },
  {
   "cell_type": "markdown",
   "id": "2776fe92",
   "metadata": {},
   "source": [
    "# Best Time to Buy and Sell stock"
   ]
  },
  {
   "cell_type": "markdown",
   "id": "cd17f05b",
   "metadata": {},
   "source": [
    "한 번의 거래로 낼 수 있는 최대 이익을 산출하라"
   ]
  },
  {
   "cell_type": "code",
   "execution_count": 78,
   "id": "1122e91a",
   "metadata": {},
   "outputs": [],
   "source": [
    "nums = [7, 1, 5, 3, 6, 4]"
   ]
  },
  {
   "cell_type": "code",
   "execution_count": 84,
   "id": "d6e9a8e8",
   "metadata": {},
   "outputs": [
    {
     "data": {
      "text/plain": [
       "0.00019884109497070312"
      ]
     },
     "execution_count": 84,
     "metadata": {},
     "output_type": "execute_result"
    }
   ],
   "source": [
    "start = time.time()\n",
    "best = 0\n",
    "for i, buy in enumerate(nums):\n",
    "    for sell in nums[i+1:]:\n",
    "        if (sell - buy) > best:\n",
    "            best = sell - buy\n",
    "end = time.time()\n",
    "end - start"
   ]
  },
  {
   "cell_type": "code",
   "execution_count": 85,
   "id": "10789655",
   "metadata": {},
   "outputs": [
    {
     "data": {
      "text/plain": [
       "0.00019502639770507812"
      ]
     },
     "execution_count": 85,
     "metadata": {},
     "output_type": "execute_result"
    }
   ],
   "source": [
    "start = time.time()\n",
    "best = 0\n",
    "for i, buy in enumerate(nums):\n",
    "    for sell in nums[i+1:]:\n",
    "        best = max(best, sell - buy)\n",
    "end = time.time()\n",
    "end - start"
   ]
  },
  {
   "cell_type": "code",
   "execution_count": 81,
   "id": "2d3f42e2",
   "metadata": {},
   "outputs": [],
   "source": [
    "def stock_brute(nums: List[int]) -> int:\n",
    "    best = 0\n",
    "    for i, buy in enumerate(nums):\n",
    "        for sell in nums[i+1:]:\n",
    "            #if (sell - buy) > best:\n",
    "            #    best = sell - buy\n",
    "            best = max(best, sell - buy)\n",
    "    return best"
   ]
  },
  {
   "cell_type": "code",
   "execution_count": 82,
   "id": "ef85bb25",
   "metadata": {},
   "outputs": [
    {
     "data": {
      "text/plain": [
       "5"
      ]
     },
     "execution_count": 82,
     "metadata": {},
     "output_type": "execute_result"
    }
   ],
   "source": [
    "stock_brute(nums)"
   ]
  },
  {
   "cell_type": "code",
   "execution_count": 86,
   "id": "c6eb0ae4",
   "metadata": {},
   "outputs": [],
   "source": [
    "import sys\n",
    "def stock_minmax(nums: List[int]) -> int:\n",
    "    min_price = nums[0] \n",
    "    profit = 0\n",
    "    for price in nums:\n",
    "        min_price = min(min_price, price)\n",
    "        profit = max(profit, price - min_price)\n",
    "    return profit"
   ]
  },
  {
   "cell_type": "code",
   "execution_count": 87,
   "id": "43554cea",
   "metadata": {},
   "outputs": [
    {
     "data": {
      "text/plain": [
       "5"
      ]
     },
     "execution_count": 87,
     "metadata": {},
     "output_type": "execute_result"
    }
   ],
   "source": [
    "stock_minmax(nums)"
   ]
  },
  {
   "cell_type": "code",
   "execution_count": 88,
   "id": "ad2d6364",
   "metadata": {},
   "outputs": [
    {
     "name": "stdout",
     "output_type": "stream",
     "text": [
      "0.00010323524475097656\n",
      "9.584426879882812e-05\n"
     ]
    }
   ],
   "source": [
    "start = time.time()\n",
    "stock_brute(nums)\n",
    "end = time.time()\n",
    "print(end - start)\n",
    "\n",
    "start = time.time()\n",
    "stock_minmax(nums)\n",
    "end = time.time()\n",
    "print(end - start)"
   ]
  },
  {
   "cell_type": "markdown",
   "id": "c8266ecd",
   "metadata": {},
   "source": [
    "# Palindrome Linked List\n",
    "\n",
    "Linked list 다시 보기"
   ]
  },
  {
   "cell_type": "code",
   "execution_count": 89,
   "id": "06f06daa",
   "metadata": {},
   "outputs": [],
   "source": [
    "# Definition for singly-linked list.\n",
    "class ListNode:\n",
    "    def __init__(self, val=0, next=None):\n",
    "        self.val = val\n",
    "        self.next = next"
   ]
  },
  {
   "cell_type": "code",
   "execution_count": null,
   "id": "1f8a9846",
   "metadata": {},
   "outputs": [],
   "source": []
  }
 ],
 "metadata": {
  "kernelspec": {
   "display_name": "Python 3",
   "language": "python",
   "name": "python3"
  },
  "language_info": {
   "codemirror_mode": {
    "name": "ipython",
    "version": 3
   },
   "file_extension": ".py",
   "mimetype": "text/x-python",
   "name": "python",
   "nbconvert_exporter": "python",
   "pygments_lexer": "ipython3",
   "version": "3.8.10"
  }
 },
 "nbformat": 4,
 "nbformat_minor": 5
}
