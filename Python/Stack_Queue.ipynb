{
 "cells": [
  {
   "cell_type": "markdown",
   "id": "ab023fef",
   "metadata": {},
   "source": [
    "- 스택 : LIFO (후입선출)\n",
    "- 큐 : FIFO (선입선출)"
   ]
  },
  {
   "cell_type": "markdown",
   "id": "51d95cbf",
   "metadata": {},
   "source": [
    "### 연결 리스트를 이용한 스택 ADT 구현"
   ]
  },
  {
   "cell_type": "code",
   "execution_count": 1,
   "id": "c4bf7cf7",
   "metadata": {},
   "outputs": [],
   "source": [
    "class Node:\n",
    "    def __init__(self, item, next):\n",
    "        self.item = item\n",
    "        self.next = next"
   ]
  },
  {
   "cell_type": "code",
   "execution_count": 2,
   "id": "2cc17160",
   "metadata": {},
   "outputs": [],
   "source": [
    "class Stack:\n",
    "    def __init__(self):\n",
    "        self.last = None\n",
    "        \n",
    "    def push(self, item):\n",
    "        self.last = Node(item, self.last)\n",
    "        \n",
    "    def pop(self):\n",
    "        item = self.last.item\n",
    "        self.last = self.last.next\n",
    "        return item"
   ]
  },
  {
   "cell_type": "code",
   "execution_count": 10,
   "id": "0c9e46b4",
   "metadata": {},
   "outputs": [],
   "source": [
    "stack = Stack()\n",
    "stack.push(1)\n",
    "stack.push(2)\n",
    "stack.push(3)\n",
    "stack.push(4)"
   ]
  },
  {
   "cell_type": "code",
   "execution_count": 11,
   "id": "f5fc79b9",
   "metadata": {},
   "outputs": [
    {
     "name": "stdout",
     "output_type": "stream",
     "text": [
      "4\n",
      "3\n",
      "2\n",
      "1\n"
     ]
    }
   ],
   "source": [
    "for _ in range(4):\n",
    "    print(stack.pop())"
   ]
  },
  {
   "cell_type": "markdown",
   "id": "771b5b72",
   "metadata": {},
   "source": [
    "# Valid Parentheses"
   ]
  },
  {
   "cell_type": "code",
   "execution_count": 12,
   "id": "61689395",
   "metadata": {},
   "outputs": [
    {
     "ename": "IndexError",
     "evalue": "pop from empty list",
     "output_type": "error",
     "traceback": [
      "\u001b[0;31m---------------------------------------------------------------------------\u001b[0m",
      "\u001b[0;31mIndexError\u001b[0m                                Traceback (most recent call last)",
      "\u001b[0;32m<ipython-input-12-4139197c6b93>\u001b[0m in \u001b[0;36m<module>\u001b[0;34m\u001b[0m\n\u001b[1;32m      1\u001b[0m \u001b[0mlst\u001b[0m \u001b[0;34m=\u001b[0m \u001b[0;34m[\u001b[0m\u001b[0;34m]\u001b[0m\u001b[0;34m\u001b[0m\u001b[0;34m\u001b[0m\u001b[0m\n\u001b[0;32m----> 2\u001b[0;31m \u001b[0mlst\u001b[0m\u001b[0;34m.\u001b[0m\u001b[0mpop\u001b[0m\u001b[0;34m(\u001b[0m\u001b[0;34m)\u001b[0m\u001b[0;34m\u001b[0m\u001b[0;34m\u001b[0m\u001b[0m\n\u001b[0m",
      "\u001b[0;31mIndexError\u001b[0m: pop from empty list"
     ]
    }
   ],
   "source": [
    "lst = []\n",
    "lst.pop()"
   ]
  },
  {
   "cell_type": "code",
   "execution_count": 25,
   "id": "6d8d1454",
   "metadata": {},
   "outputs": [],
   "source": [
    "s0 = \"()[]{}\"\n",
    "s1 = \"()[\"\n",
    "s2 = \")()\"\n",
    "s3 = \"({))\""
   ]
  },
  {
   "cell_type": "code",
   "execution_count": 30,
   "id": "3df5bdd4",
   "metadata": {},
   "outputs": [],
   "source": [
    "def valid_parent(s: str) -> bool:\n",
    "    stack = []\n",
    "    table = {\n",
    "        \")\": \"(\",\n",
    "        \"}\": \"{\",\n",
    "        \"]\": \"[\",\n",
    "    }\n",
    "    \n",
    "    for c in s:\n",
    "        if c not in table:\n",
    "            stack.append(c)\n",
    "        # not stack 이유 : 왼쪽이 무조건 먼저 나와야함\n",
    "        elif not stack or table[c] != stack.pop():\n",
    "                return False\n",
    "    return len(stack) == 0"
   ]
  },
  {
   "cell_type": "code",
   "execution_count": 31,
   "id": "dcc1c5cd",
   "metadata": {},
   "outputs": [
    {
     "name": "stdout",
     "output_type": "stream",
     "text": [
      "True\n",
      "False\n",
      "False\n",
      "False\n"
     ]
    }
   ],
   "source": [
    "print(valid_parent(s0))\n",
    "print(valid_parent(s1))\n",
    "print(valid_parent(s2))\n",
    "print(valid_parent(s3))"
   ]
  },
  {
   "cell_type": "markdown",
   "id": "dc128867",
   "metadata": {},
   "source": [
    "# Remove Duplicate Letters"
   ]
  },
  {
   "cell_type": "code",
   "execution_count": 43,
   "id": "16c672b6",
   "metadata": {},
   "outputs": [],
   "source": [
    "s0 = \"ebcabc\"\n",
    "s1 = \"cbacdcbc\""
   ]
  },
  {
   "cell_type": "code",
   "execution_count": 44,
   "id": "fc1a938b",
   "metadata": {},
   "outputs": [],
   "source": [
    "def remove_duplicate_loop(s: str) -> str:\n",
    "    for char in sorted(set(s)):\n",
    "        suffix = s[s.index(char):]\n",
    "        if set(s) == set(suffix):\n",
    "            print(char)\n",
    "            return char + remove_duplicate_loop(suffix.replace(char, \"\"))\n",
    "    return \"\""
   ]
  },
  {
   "cell_type": "code",
   "execution_count": 45,
   "id": "4f38a896",
   "metadata": {},
   "outputs": [
    {
     "name": "stdout",
     "output_type": "stream",
     "text": [
      "a\n",
      "c\n",
      "d\n",
      "b\n"
     ]
    },
    {
     "data": {
      "text/plain": [
       "'acdb'"
      ]
     },
     "execution_count": 45,
     "metadata": {},
     "output_type": "execute_result"
    }
   ],
   "source": [
    "remove_duplicate_loop(s1)"
   ]
  },
  {
   "cell_type": "code",
   "execution_count": 46,
   "id": "932b8ca7",
   "metadata": {},
   "outputs": [
    {
     "name": "stdout",
     "output_type": "stream",
     "text": [
      "e\n",
      "a\n",
      "b\n",
      "c\n"
     ]
    },
    {
     "data": {
      "text/plain": [
       "'eabc'"
      ]
     },
     "execution_count": 46,
     "metadata": {},
     "output_type": "execute_result"
    }
   ],
   "source": [
    "remove_duplicate_loop(s0)"
   ]
  },
  {
   "cell_type": "code",
   "execution_count": 54,
   "id": "2051e8f2",
   "metadata": {},
   "outputs": [],
   "source": [
    "def remove_duplicate_stack(s: str) -> str:\n",
    "    import collections\n",
    "    counter, seen, stack = collections.Counter(s), set(), []\n",
    "    for char in s:\n",
    "        counter[char] -= 1\n",
    "        if char in seen:\n",
    "            continue\n",
    "        while stack and\\\n",
    "            char < stack[-1] and\\\n",
    "            counter[stack[-1]] > 0:\n",
    "            seen.remove(stack.pop())\n",
    "        stack.append(char)\n",
    "        seen.add(char)\n",
    "        print(counter, seen, stack)\n",
    "    return \"\".join(stack)"
   ]
  },
  {
   "cell_type": "code",
   "execution_count": 55,
   "id": "e55ec7d0",
   "metadata": {},
   "outputs": [
    {
     "name": "stdout",
     "output_type": "stream",
     "text": [
      "Counter({'b': 2, 'c': 2, 'a': 1, 'e': 0}) {'e'} ['e']\n",
      "Counter({'c': 2, 'b': 1, 'a': 1, 'e': 0}) {'e', 'b'} ['e', 'b']\n",
      "Counter({'b': 1, 'c': 1, 'a': 1, 'e': 0}) {'e', 'c', 'b'} ['e', 'b', 'c']\n",
      "Counter({'b': 1, 'c': 1, 'e': 0, 'a': 0}) {'e', 'a'} ['e', 'a']\n",
      "Counter({'c': 1, 'e': 0, 'b': 0, 'a': 0}) {'e', 'b', 'a'} ['e', 'a', 'b']\n",
      "Counter({'e': 0, 'b': 0, 'c': 0, 'a': 0}) {'e', 'c', 'b', 'a'} ['e', 'a', 'b', 'c']\n"
     ]
    },
    {
     "data": {
      "text/plain": [
       "'eabc'"
      ]
     },
     "execution_count": 55,
     "metadata": {},
     "output_type": "execute_result"
    }
   ],
   "source": [
    "remove_duplicate_stack(s0)"
   ]
  },
  {
   "cell_type": "code",
   "execution_count": 56,
   "id": "e1103ef4",
   "metadata": {},
   "outputs": [
    {
     "name": "stdout",
     "output_type": "stream",
     "text": [
      "Counter({'c': 3, 'b': 2, 'a': 1, 'd': 1}) {'c'} ['c']\n",
      "Counter({'c': 3, 'b': 1, 'a': 1, 'd': 1}) {'b'} ['b']\n",
      "Counter({'c': 3, 'b': 1, 'd': 1, 'a': 0}) {'a'} ['a']\n",
      "Counter({'c': 2, 'b': 1, 'd': 1, 'a': 0}) {'c', 'a'} ['a', 'c']\n",
      "Counter({'c': 2, 'b': 1, 'a': 0, 'd': 0}) {'c', 'a', 'd'} ['a', 'c', 'd']\n",
      "Counter({'c': 1, 'b': 0, 'a': 0, 'd': 0}) {'c', 'b', 'a', 'd'} ['a', 'c', 'd', 'b']\n"
     ]
    },
    {
     "data": {
      "text/plain": [
       "'acdb'"
      ]
     },
     "execution_count": 56,
     "metadata": {},
     "output_type": "execute_result"
    }
   ],
   "source": [
    "remove_duplicate_stack(s1)"
   ]
  },
  {
   "cell_type": "markdown",
   "id": "838a199c",
   "metadata": {},
   "source": [
    "# Daily Temperatures"
   ]
  },
  {
   "cell_type": "code",
   "execution_count": 67,
   "id": "9dbf71a7",
   "metadata": {},
   "outputs": [],
   "source": [
    "import time\n",
    "T = [73, 74, 75, 71, 69, 72, 76, 73]"
   ]
  },
  {
   "cell_type": "code",
   "execution_count": 68,
   "id": "5c1c8d65",
   "metadata": {},
   "outputs": [],
   "source": [
    "from typing import List\n",
    "def daily_t_eun(T: List[int]) -> List[int]:\n",
    "    res = []\n",
    "    for i, t in enumerate(T):\n",
    "        for j in range(i+1, len(T)):\n",
    "            if T[i] < T[j]:\n",
    "                res.append(j-i)\n",
    "                break\n",
    "            if j == (len(T)-1):\n",
    "                res.append(0)\n",
    "    res.append(0)\n",
    "    return res"
   ]
  },
  {
   "cell_type": "code",
   "execution_count": 73,
   "id": "91980b7a",
   "metadata": {},
   "outputs": [
    {
     "data": {
      "text/plain": [
       "0.00011420249938964844"
      ]
     },
     "execution_count": 73,
     "metadata": {},
     "output_type": "execute_result"
    }
   ],
   "source": [
    "start = time.time()\n",
    "daily_t_eun(T)\n",
    "end = time.time()\n",
    "end-start"
   ]
  },
  {
   "cell_type": "code",
   "execution_count": 75,
   "id": "337455fb",
   "metadata": {},
   "outputs": [],
   "source": [
    "def daily_t_stack(T: List[int]) -> List[int]:\n",
    "    answer = [0] * len(T)\n",
    "    stack = []\n",
    "    for i, cur in enumerate(T):\n",
    "        while stack and cur > T[stack[-1]]:\n",
    "            last = stack.pop()\n",
    "            answer[last] = i - last\n",
    "        stack.append(i)\n",
    "        print(stack)\n",
    "    return answer"
   ]
  },
  {
   "cell_type": "code",
   "execution_count": 76,
   "id": "0b2ca8c3",
   "metadata": {},
   "outputs": [
    {
     "name": "stdout",
     "output_type": "stream",
     "text": [
      "[0]\n",
      "[1]\n",
      "[2]\n",
      "[2, 3]\n",
      "[2, 3, 4]\n",
      "[2, 5]\n",
      "[6]\n",
      "[6, 7]\n"
     ]
    },
    {
     "data": {
      "text/plain": [
       "0.0003299713134765625"
      ]
     },
     "execution_count": 76,
     "metadata": {},
     "output_type": "execute_result"
    }
   ],
   "source": [
    "start = time.time()\n",
    "daily_t_stack(T)\n",
    "end = time.time()\n",
    "end-start"
   ]
  },
  {
   "cell_type": "code",
   "execution_count": null,
   "id": "70197cde",
   "metadata": {},
   "outputs": [],
   "source": []
  }
 ],
 "metadata": {
  "kernelspec": {
   "display_name": "Python 3",
   "language": "python",
   "name": "python3"
  },
  "language_info": {
   "codemirror_mode": {
    "name": "ipython",
    "version": 3
   },
   "file_extension": ".py",
   "mimetype": "text/x-python",
   "name": "python",
   "nbconvert_exporter": "python",
   "pygments_lexer": "ipython3",
   "version": "3.8.10"
  }
 },
 "nbformat": 4,
 "nbformat_minor": 5
}
