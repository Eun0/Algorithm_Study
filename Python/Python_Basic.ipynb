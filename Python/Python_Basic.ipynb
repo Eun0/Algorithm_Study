{
 "cells": [
  {
   "cell_type": "markdown",
   "metadata": {},
   "source": [
    "### Type Hint"
   ]
  },
  {
   "cell_type": "code",
   "execution_count": 1,
   "metadata": {},
   "outputs": [],
   "source": [
    "def check_even(a: int) -> bool:\n",
    "    return (a % 2 == 0)"
   ]
  },
  {
   "cell_type": "code",
   "execution_count": 2,
   "metadata": {},
   "outputs": [
    {
     "data": {
      "text/plain": [
       "(False, True)"
      ]
     },
     "execution_count": 2,
     "metadata": {},
     "output_type": "execute_result"
    }
   ],
   "source": [
    "check_even(1), check_even(12)"
   ]
  },
  {
   "cell_type": "markdown",
   "metadata": {},
   "source": [
    "### Generator\n",
    "\n",
    "- yeild로 generator 리턴\n",
    "- yeild는 함수 종료되지 않고 중간 값을 리턴, next로 다음 값 추출\n",
    "\n",
    "ex\n",
    "- range\n",
    "  - 메모리 효율적으로 사용 가능\n",
    "- enumerate\n",
    "  - 인덱스와 같이 리턴"
   ]
  },
  {
   "cell_type": "code",
   "execution_count": 3,
   "metadata": {},
   "outputs": [],
   "source": [
    "def get_natural_num():\n",
    "    n = 0\n",
    "    while True:\n",
    "        n += 1\n",
    "        yield n"
   ]
  },
  {
   "cell_type": "code",
   "execution_count": 4,
   "metadata": {},
   "outputs": [
    {
     "data": {
      "text/plain": [
       "<generator object get_natural_num at 0x000001B72D5B1138>"
      ]
     },
     "execution_count": 4,
     "metadata": {},
     "output_type": "execute_result"
    }
   ],
   "source": [
    "get_natural_num()"
   ]
  },
  {
   "cell_type": "code",
   "execution_count": 5,
   "metadata": {},
   "outputs": [
    {
     "name": "stdout",
     "output_type": "stream",
     "text": [
      "1 2 3 4 5 6 7 8 9 10 "
     ]
    }
   ],
   "source": [
    "g = get_natural_num()\n",
    "for _ in range(10):\n",
    "    print(next(g), end=' ')"
   ]
  },
  {
   "cell_type": "markdown",
   "metadata": {},
   "source": [
    "### range 예시"
   ]
  },
  {
   "cell_type": "code",
   "execution_count": 6,
   "metadata": {},
   "outputs": [],
   "source": [
    "a = [n for n in range(10000000)]\n",
    "b = range(10000000)"
   ]
  },
  {
   "cell_type": "code",
   "execution_count": 7,
   "metadata": {},
   "outputs": [
    {
     "data": {
      "text/plain": [
       "True"
      ]
     },
     "execution_count": 7,
     "metadata": {},
     "output_type": "execute_result"
    }
   ],
   "source": [
    "len(a) == len(b)"
   ]
  },
  {
   "cell_type": "code",
   "execution_count": 8,
   "metadata": {},
   "outputs": [
    {
     "data": {
      "text/plain": [
       "(81528056, 48)"
      ]
     },
     "execution_count": 8,
     "metadata": {},
     "output_type": "execute_result"
    }
   ],
   "source": [
    "import sys\n",
    "sys.getsizeof(a), sys.getsizeof(b)"
   ]
  },
  {
   "cell_type": "code",
   "execution_count": 9,
   "metadata": {},
   "outputs": [
    {
     "data": {
      "text/plain": [
       "48"
      ]
     },
     "execution_count": 9,
     "metadata": {},
     "output_type": "execute_result"
    }
   ],
   "source": [
    "c = range(100000000000)\n",
    "sys.getsizeof(c)"
   ]
  },
  {
   "cell_type": "markdown",
   "metadata": {},
   "source": [
    "### print 함수\n",
    "- sep 파라미터\n",
    "- end 파라미터\n",
    "- f-string"
   ]
  },
  {
   "cell_type": "code",
   "execution_count": 10,
   "metadata": {},
   "outputs": [
    {
     "name": "stdout",
     "output_type": "stream",
     "text": [
      "a,b\n"
     ]
    }
   ],
   "source": [
    "print(\"a\", \"b\", sep=\",\")"
   ]
  },
  {
   "cell_type": "code",
   "execution_count": 11,
   "metadata": {},
   "outputs": [
    {
     "name": "stdout",
     "output_type": "stream",
     "text": [
      "a,b\n"
     ]
    }
   ],
   "source": [
    "print(\",\".join([\"a\",\"b\"]))"
   ]
  },
  {
   "cell_type": "code",
   "execution_count": 12,
   "metadata": {},
   "outputs": [
    {
     "name": "stdout",
     "output_type": "stream",
     "text": [
      "0 : zero\n"
     ]
    }
   ],
   "source": [
    "key = 0\n",
    "value = \"zero\"\n",
    "print(f\"{key} : {value}\")"
   ]
  },
  {
   "cell_type": "code",
   "execution_count": 13,
   "metadata": {},
   "outputs": [
    {
     "name": "stdout",
     "output_type": "stream",
     "text": [
      "{'In': ['',\n",
      "        'def check_even(a: int) -> bool:\\n    return (a % 2 == 0)',\n",
      "        'check_even(1), check_even(12)',\n",
      "        'def get_natural_num():\\n'\n",
      "        '    n = 0\\n'\n",
      "        '    while True:\\n'\n",
      "        '        n += 1\\n'\n",
      "        '        yield n',\n",
      "        'get_natural_num()',\n",
      "        'g = get_natural_num()\\n'\n",
      "        'for _ in range(10):\\n'\n",
      "        \"    print(next(g), end=' ')\",\n",
      "        'a = [n for n in range(10000000)]\\nb = range(10000000)',\n",
      "        'len(a) == len(b)',\n",
      "        'import sys\\nsys.getsizeof(a), sys.getsizeof(b)',\n",
      "        'c = range(100000000000)\\nsys.getsizeof(c)',\n",
      "        'print(\"a\", \"b\", sep=\",\")',\n",
      "        'print(\",\".join([\"a\",\"b\"]))',\n",
      "        'key = 0\\nvalue = \"zero\"\\nprint(f\"{key} : {value}\")',\n",
      "        'import pprint\\ndel a,b\\npprint.pprint(locals())'],\n",
      " 'Out': {2: (False, True),\n",
      "         4: <generator object get_natural_num at 0x000001B72D5B1138>,\n",
      "         7: True,\n",
      "         8: (81528056, 48),\n",
      "         9: 48},\n",
      " '_': 9,\n",
      " '_2': (False, True),\n",
      " '_4': <generator object get_natural_num at 0x000001B72D5B1138>,\n",
      " '_7': True,\n",
      " '_8': (81528056, 48),\n",
      " '_9': 48,\n",
      " '__': (False, True),\n",
      " '___': '',\n",
      " '__builtin__': <module 'builtins' (built-in)>,\n",
      " '__builtins__': <module 'builtins' (built-in)>,\n",
      " '__doc__': 'Automatically created module for IPython interactive environment',\n",
      " '__loader__': None,\n",
      " '__name__': '__main__',\n",
      " '__package__': None,\n",
      " '__spec__': None,\n",
      " '_dh': ['C:\\\\Users\\\\Eun0\\\\Algorithm_Study\\\\Python'],\n",
      " '_i': 'key = 0\\nvalue = \"zero\"\\nprint(f\"{key} : {value}\")',\n",
      " '_i1': 'def check_even(a: int) -> bool:\\n    return (a % 2 == 0)',\n",
      " '_i10': 'print(\"a\", \"b\", sep=\",\")',\n",
      " '_i11': 'print(\",\".join([\"a\",\"b\"]))',\n",
      " '_i12': 'key = 0\\nvalue = \"zero\"\\nprint(f\"{key} : {value}\")',\n",
      " '_i13': 'import pprint\\ndel a,b\\npprint.pprint(locals())',\n",
      " '_i2': 'check_even(1), check_even(12)',\n",
      " '_i3': 'def get_natural_num():\\n'\n",
      "        '    n = 0\\n'\n",
      "        '    while True:\\n'\n",
      "        '        n += 1\\n'\n",
      "        '        yield n',\n",
      " '_i4': 'get_natural_num()',\n",
      " '_i5': 'g = get_natural_num()\\n'\n",
      "        'for _ in range(10):\\n'\n",
      "        \"    print(next(g), end=' ')\",\n",
      " '_i6': 'a = [n for n in range(10000000)]\\nb = range(10000000)',\n",
      " '_i7': 'len(a) == len(b)',\n",
      " '_i8': 'import sys\\nsys.getsizeof(a), sys.getsizeof(b)',\n",
      " '_i9': 'c = range(100000000000)\\nsys.getsizeof(c)',\n",
      " '_ih': ['',\n",
      "         'def check_even(a: int) -> bool:\\n    return (a % 2 == 0)',\n",
      "         'check_even(1), check_even(12)',\n",
      "         'def get_natural_num():\\n'\n",
      "         '    n = 0\\n'\n",
      "         '    while True:\\n'\n",
      "         '        n += 1\\n'\n",
      "         '        yield n',\n",
      "         'get_natural_num()',\n",
      "         'g = get_natural_num()\\n'\n",
      "         'for _ in range(10):\\n'\n",
      "         \"    print(next(g), end=' ')\",\n",
      "         'a = [n for n in range(10000000)]\\nb = range(10000000)',\n",
      "         'len(a) == len(b)',\n",
      "         'import sys\\nsys.getsizeof(a), sys.getsizeof(b)',\n",
      "         'c = range(100000000000)\\nsys.getsizeof(c)',\n",
      "         'print(\"a\", \"b\", sep=\",\")',\n",
      "         'print(\",\".join([\"a\",\"b\"]))',\n",
      "         'key = 0\\nvalue = \"zero\"\\nprint(f\"{key} : {value}\")',\n",
      "         'import pprint\\ndel a,b\\npprint.pprint(locals())'],\n",
      " '_ii': 'print(\",\".join([\"a\",\"b\"]))',\n",
      " '_iii': 'print(\"a\", \"b\", sep=\",\")',\n",
      " '_oh': {2: (False, True),\n",
      "         4: <generator object get_natural_num at 0x000001B72D5B1138>,\n",
      "         7: True,\n",
      "         8: (81528056, 48),\n",
      "         9: 48},\n",
      " 'c': range(0, 100000000000),\n",
      " 'check_even': <function check_even at 0x000001B72D5807B8>,\n",
      " 'exit': <IPython.core.autocall.ZMQExitAutocall object at 0x000001B72D49E588>,\n",
      " 'g': <generator object get_natural_num at 0x000001B72D5B1318>,\n",
      " 'get_ipython': <bound method InteractiveShell.get_ipython of <ipykernel.zmqshell.ZMQInteractiveShell object at 0x000001B72B4AAB00>>,\n",
      " 'get_natural_num': <function get_natural_num at 0x000001B72D580D90>,\n",
      " 'key': 0,\n",
      " 'pprint': <module 'pprint' from 'C:\\\\Users\\\\Eun0\\\\Anaconda3\\\\lib\\\\pprint.py'>,\n",
      " 'quit': <IPython.core.autocall.ZMQExitAutocall object at 0x000001B72D49E588>,\n",
      " 'sys': <module 'sys' (built-in)>,\n",
      " 'value': 'zero'}\n"
     ]
    }
   ],
   "source": [
    "import pprint\n",
    "del a,b\n",
    "pprint.pprint(locals())"
   ]
  },
  {
   "cell_type": "markdown",
   "metadata": {},
   "source": [
    "# 자료형\n",
    "\n",
    "- None\n",
    "- 숫자\n",
    "  - 정수형\n",
    "    - 정수 (int)\n",
    "    - 불리언 (bool)\n",
    "  - 실수형 (float)\n",
    "- 시퀀스\n",
    "  - 불변\n",
    "    - 문자열 (str)\n",
    "    - 바이트 (bytes)\n",
    "    - 튜플 (tuple)\n",
    "  - 가변\n",
    "    - 리스트 (list)\n",
    "- 집합형\n",
    " - 집합 (set)\n",
    "- 매핑\n",
    "  - 딕셔너리 (dict)"
   ]
  },
  {
   "cell_type": "markdown",
   "metadata": {},
   "source": [
    "### str 불변 "
   ]
  },
  {
   "cell_type": "code",
   "execution_count": 15,
   "metadata": {},
   "outputs": [
    {
     "name": "stdout",
     "output_type": "stream",
     "text": [
      "1886173525472 1886173525472\n",
      "1886577659720 1886173525472 1886577659720\n"
     ]
    }
   ],
   "source": [
    "a = \"abc\"\n",
    "print(id(a), id (\"abc\"))\n",
    "\n",
    "a = \"bcd\"\n",
    "print(id(a), id(\"abc\"), id(\"bcd\"))"
   ]
  },
  {
   "cell_type": "code",
   "execution_count": 16,
   "metadata": {},
   "outputs": [
    {
     "ename": "TypeError",
     "evalue": "'str' object does not support item assignment",
     "output_type": "error",
     "traceback": [
      "\u001b[1;31m---------------------------------------------------------------------------\u001b[0m",
      "\u001b[1;31mTypeError\u001b[0m                                 Traceback (most recent call last)",
      "\u001b[1;32m<ipython-input-16-0dd83a913cbd>\u001b[0m in \u001b[0;36m<module>\u001b[1;34m\u001b[0m\n\u001b[1;32m----> 1\u001b[1;33m \u001b[0ma\u001b[0m\u001b[1;33m[\u001b[0m\u001b[1;36m1\u001b[0m\u001b[1;33m]\u001b[0m \u001b[1;33m=\u001b[0m \u001b[1;34m\"c\"\u001b[0m\u001b[1;33m\u001b[0m\u001b[1;33m\u001b[0m\u001b[0m\n\u001b[0m",
      "\u001b[1;31mTypeError\u001b[0m: 'str' object does not support item assignment"
     ]
    }
   ],
   "source": [
    "a[1] = \"c\""
   ]
  },
  {
   "cell_type": "markdown",
   "metadata": {},
   "source": [
    "### 가변 객체"
   ]
  },
  {
   "cell_type": "code",
   "execution_count": 41,
   "metadata": {},
   "outputs": [
    {
     "name": "stdout",
     "output_type": "stream",
     "text": [
      "a: [1, 2, 3, 4, 5]\n",
      "b: [1, 2, 3, 4, 5]\n",
      "Change\n",
      "a: [1, 2, 4, 4, 5]\n",
      "b: [1, 2, 4, 4, 5]\n"
     ]
    }
   ],
   "source": [
    "a = [1,2,3,4,5]\n",
    "c = [1,2,4,4,5]\n",
    "b = a \n",
    "print(\"a:\", a)\n",
    "print(\"b:\", b)\n",
    "print(\"Change\")\n",
    "a[2] = 4\n",
    "print(\"a:\", a)\n",
    "print(\"b:\", b)"
   ]
  },
  {
   "cell_type": "markdown",
   "metadata": {},
   "source": [
    "### is와 ==\n",
    "\n",
    "Use  `is` to check the identity and use `==` to check the equality."
   ]
  },
  {
   "cell_type": "code",
   "execution_count": 42,
   "metadata": {},
   "outputs": [
    {
     "name": "stdout",
     "output_type": "stream",
     "text": [
      "True\n",
      "True\n",
      "True\n",
      "False\n"
     ]
    }
   ],
   "source": [
    "print(a == a)\n",
    "print(a is a)\n",
    "print(a == c)\n",
    "print(a is c)"
   ]
  },
  {
   "cell_type": "code",
   "execution_count": null,
   "metadata": {},
   "outputs": [],
   "source": []
  }
 ],
 "metadata": {
  "kernelspec": {
   "display_name": "Python 3",
   "language": "python",
   "name": "python3"
  },
  "language_info": {
   "codemirror_mode": {
    "name": "ipython",
    "version": 3
   },
   "file_extension": ".py",
   "mimetype": "text/x-python",
   "name": "python",
   "nbconvert_exporter": "python",
   "pygments_lexer": "ipython3",
   "version": "3.8.10"
  }
 },
 "nbformat": 4,
 "nbformat_minor": 2
}
