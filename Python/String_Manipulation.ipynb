{
 "cells": [
  {
   "cell_type": "markdown",
   "id": "4ec6c07e",
   "metadata": {},
   "source": [
    "# Palindrome"
   ]
  },
  {
   "cell_type": "markdown",
   "id": "f3db0734",
   "metadata": {},
   "source": [
    "주어진 문자열이 팰린드롬인지 확인하라. 대소문자를 구분하지 않으며, 영문자와 숫자만을 대상으로 한다."
   ]
  },
  {
   "cell_type": "code",
   "execution_count": 1,
   "id": "b0c86f18",
   "metadata": {},
   "outputs": [],
   "source": [
    "input0 = \"A man, a plan, a canal: Panama\"\n",
    "input1 = \"race a car\""
   ]
  },
  {
   "cell_type": "code",
   "execution_count": 2,
   "id": "849566d7",
   "metadata": {},
   "outputs": [],
   "source": [
    "def preprocess(tokens: str) -> str:\n",
    "    res = []\n",
    "    for tok in tokens:\n",
    "        if tok.isalnum():\n",
    "            #tok = tok.lower() if tok.isalpha() else tok\n",
    "            res.append(tok.lower())\n",
    "    return res"
   ]
  },
  {
   "cell_type": "code",
   "execution_count": 3,
   "id": "4d318f06",
   "metadata": {},
   "outputs": [
    {
     "data": {
      "text/plain": [
       "'1'"
      ]
     },
     "execution_count": 3,
     "metadata": {},
     "output_type": "execute_result"
    }
   ],
   "source": [
    "\"1\".lower()"
   ]
  },
  {
   "cell_type": "code",
   "execution_count": 4,
   "id": "b6e6254c",
   "metadata": {},
   "outputs": [
    {
     "data": {
      "text/plain": [
       "'a'"
      ]
     },
     "execution_count": 4,
     "metadata": {},
     "output_type": "execute_result"
    }
   ],
   "source": [
    "\"A\".lower()"
   ]
  },
  {
   "cell_type": "code",
   "execution_count": 5,
   "id": "c961977c",
   "metadata": {},
   "outputs": [
    {
     "data": {
      "text/plain": [
       "['r', 'a', 'c', 'e', 'a', 'c', 'a', 'r']"
      ]
     },
     "execution_count": 5,
     "metadata": {},
     "output_type": "execute_result"
    }
   ],
   "source": [
    "preprocess(input1)"
   ]
  },
  {
   "cell_type": "code",
   "execution_count": 6,
   "id": "69604aa3",
   "metadata": {},
   "outputs": [],
   "source": [
    "def check_palindrome(tokens: str) -> bool:\n",
    "    res = preprocess(tokens)\n",
    "    for i in range(len(res)//2):\n",
    "        if res[i] != res[-i-1]:\n",
    "            return False\n",
    "    return True"
   ]
  },
  {
   "cell_type": "code",
   "execution_count": 7,
   "id": "bafb6010",
   "metadata": {},
   "outputs": [
    {
     "data": {
      "text/plain": [
       "True"
      ]
     },
     "execution_count": 7,
     "metadata": {},
     "output_type": "execute_result"
    }
   ],
   "source": [
    "check_palindrome(input0)"
   ]
  },
  {
   "cell_type": "code",
   "execution_count": 8,
   "id": "208cb127",
   "metadata": {},
   "outputs": [
    {
     "data": {
      "text/plain": [
       "False"
      ]
     },
     "execution_count": 8,
     "metadata": {},
     "output_type": "execute_result"
    }
   ],
   "source": [
    "check_palindrome(input1)"
   ]
  },
  {
   "cell_type": "markdown",
   "id": "0b6db36a",
   "metadata": {},
   "source": [
    "정규식 + 슬라이싱 (fast)"
   ]
  },
  {
   "cell_type": "code",
   "execution_count": 9,
   "id": "db954fb0",
   "metadata": {},
   "outputs": [],
   "source": [
    "def preprocess_re(tokens: str) -> str:\n",
    "    import re\n",
    "    tokens = tokens.lower()\n",
    "    tokens = re.sub(\"[^a-z0-9]\", \"\", tokens)\n",
    "    return tokens"
   ]
  },
  {
   "cell_type": "code",
   "execution_count": 10,
   "id": "d7354a31",
   "metadata": {},
   "outputs": [
    {
     "data": {
      "text/plain": [
       "'raceacar'"
      ]
     },
     "execution_count": 10,
     "metadata": {},
     "output_type": "execute_result"
    }
   ],
   "source": [
    "preprocess_re(input1)"
   ]
  },
  {
   "cell_type": "code",
   "execution_count": 11,
   "id": "cf1f0d05",
   "metadata": {},
   "outputs": [],
   "source": [
    "def check_palindrome_slice(tokens: str) -> bool:\n",
    "    res = preprocess_re(tokens)\n",
    "    return res == res[::-1]"
   ]
  },
  {
   "cell_type": "code",
   "execution_count": 12,
   "id": "1af6b975",
   "metadata": {},
   "outputs": [
    {
     "data": {
      "text/plain": [
       "True"
      ]
     },
     "execution_count": 12,
     "metadata": {},
     "output_type": "execute_result"
    }
   ],
   "source": [
    "check_palindrome_slice(input0)"
   ]
  },
  {
   "cell_type": "code",
   "execution_count": 13,
   "id": "187708ce",
   "metadata": {},
   "outputs": [
    {
     "data": {
      "text/plain": [
       "False"
      ]
     },
     "execution_count": 13,
     "metadata": {},
     "output_type": "execute_result"
    }
   ],
   "source": [
    "check_palindrome_slice(input1)"
   ]
  },
  {
   "cell_type": "markdown",
   "id": "71f2dfdf",
   "metadata": {},
   "source": [
    "# Reverse String"
   ]
  },
  {
   "cell_type": "markdown",
   "id": "917df39d",
   "metadata": {},
   "source": [
    "문자열을 뒤집는 함수를 작성하라. 입력값은 문자 배열이며, 리턴 없이 리스트 내부를 직접 조작하라."
   ]
  },
  {
   "cell_type": "code",
   "execution_count": 14,
   "id": "de35ab27",
   "metadata": {},
   "outputs": [],
   "source": [
    "from typing import List\n",
    "def reverse_string(lst: List[str]) -> None:\n",
    "    lst.reverse()"
   ]
  },
  {
   "cell_type": "code",
   "execution_count": 15,
   "id": "1e33d6f4",
   "metadata": {},
   "outputs": [],
   "source": [
    "a = list(\"hello world\")"
   ]
  },
  {
   "cell_type": "code",
   "execution_count": 16,
   "id": "fdf445c9",
   "metadata": {},
   "outputs": [
    {
     "data": {
      "text/plain": [
       "['d', 'l', 'r', 'o', 'w', ' ', 'o', 'l', 'l', 'e', 'h']"
      ]
     },
     "execution_count": 16,
     "metadata": {},
     "output_type": "execute_result"
    }
   ],
   "source": [
    "reverse_string(a)\n",
    "a"
   ]
  },
  {
   "cell_type": "markdown",
   "id": "dff1a5a1",
   "metadata": {},
   "source": [
    "# Reorder Log Files"
   ]
  },
  {
   "cell_type": "markdown",
   "id": "c93e70df",
   "metadata": {},
   "source": [
    "로그를 재정렬하라. 기준은 다음과 같다.\n",
    "1. 로그의 가장 앞 부분은 식별자다.\n",
    "2. 문자로 구성된 로그가 숫자 로그보다 앞에 온다.\n",
    "3. 식별자는 순서에 영향을 끼치지 않지만, 문자가 동일할 경우 식별자 순으로 한다.\n",
    "4. 숫자 로그는 입력 순서대로 한다."
   ]
  },
  {
   "cell_type": "markdown",
   "id": "c8e835c2",
   "metadata": {},
   "source": [
    "람다 이용"
   ]
  },
  {
   "cell_type": "code",
   "execution_count": 17,
   "id": "4898604f",
   "metadata": {},
   "outputs": [],
   "source": [
    "logs = [\"dig1 8 1 5 1\", \"let1 art can\", \"dig2 3 6\", \"let2 own kit dig\", \"let3 art zero\"]"
   ]
  },
  {
   "cell_type": "code",
   "execution_count": 18,
   "id": "88b8b989",
   "metadata": {},
   "outputs": [],
   "source": [
    "def reorder_log_files(logs: List[str]) -> List[str]:\n",
    "    letters, digits = [], []\n",
    "    for log in logs:\n",
    "        if log.split()[1].isdigit():\n",
    "            digits.append(log)\n",
    "        else:\n",
    "            letters.append(log)\n",
    "    \n",
    "    letters.sort(key=lambda x: (x.split()[1:], x.split()[0]))\n",
    "    return letters + digits"
   ]
  },
  {
   "cell_type": "code",
   "execution_count": 19,
   "id": "c02db509",
   "metadata": {},
   "outputs": [
    {
     "data": {
      "text/plain": [
       "['let1 art can',\n",
       " 'let3 art zero',\n",
       " 'let2 own kit dig',\n",
       " 'dig1 8 1 5 1',\n",
       " 'dig2 3 6']"
      ]
     },
     "execution_count": 19,
     "metadata": {},
     "output_type": "execute_result"
    }
   ],
   "source": [
    "reorder_log_files(logs)"
   ]
  },
  {
   "cell_type": "markdown",
   "id": "00579a48",
   "metadata": {},
   "source": [
    "# Most Common Word"
   ]
  },
  {
   "cell_type": "markdown",
   "id": "461eeab4",
   "metadata": {},
   "source": [
    "금지된 단어를 제외한 가장 흔하게 등장하는 단어를 출력하라. 대소문자 구분을 하지 않으며, 구두점 또한 무시한다."
   ]
  },
  {
   "cell_type": "code",
   "execution_count": 20,
   "id": "0a33d96c",
   "metadata": {},
   "outputs": [],
   "source": [
    "paragraph = \"Bob hit a ball, the hit BALL flew far after it was hit.\"\n",
    "banned = [\"hit\"]"
   ]
  },
  {
   "cell_type": "code",
   "execution_count": 21,
   "id": "49ac26f9",
   "metadata": {},
   "outputs": [],
   "source": [
    "def most_common_word(paragraph: str, banned: List[str]) -> str:\n",
    "    import re\n",
    "    from collections import Counter\n",
    "    words = [\n",
    "        word for word \\\n",
    "             in re.sub(r\"[^\\w]\", \" \", paragraph).lower().split() \\\n",
    "             if word not in banned\n",
    "    ]\n",
    "    #print(words)\n",
    "    counts = Counter(words)\n",
    "    #print(counts.most_common())\n",
    "    return counts.most_common(1)[0][0]"
   ]
  },
  {
   "cell_type": "code",
   "execution_count": 22,
   "id": "574d9ac2",
   "metadata": {},
   "outputs": [
    {
     "data": {
      "text/plain": [
       "'ball'"
      ]
     },
     "execution_count": 22,
     "metadata": {},
     "output_type": "execute_result"
    }
   ],
   "source": [
    "most_common_word(paragraph, banned)"
   ]
  },
  {
   "cell_type": "markdown",
   "id": "1c4a8912",
   "metadata": {},
   "source": [
    "# Group Anagrams"
   ]
  },
  {
   "cell_type": "markdown",
   "id": "20a5da07",
   "metadata": {},
   "source": [
    "문자열 배열을 받아 애너그램 단위로 그룹핑하라"
   ]
  },
  {
   "cell_type": "code",
   "execution_count": 23,
   "id": "39fcc6b8",
   "metadata": {},
   "outputs": [],
   "source": [
    "inputs = [\"eat\", \"tea\", \"tan\", \"ate\", \"nat\", \"bat\"]"
   ]
  },
  {
   "cell_type": "code",
   "execution_count": 24,
   "id": "31406ba9",
   "metadata": {},
   "outputs": [],
   "source": [
    "from typing import Any\n",
    "def group_anagrams(inputs: List[str]) -> List[List[str]]:\n",
    "    from collections import defaultdict\n",
    "    anagram = defaultdict(list)\n",
    "    for item in inputs:\n",
    "        #print(sorted(item))\n",
    "        anagram[\"\".join(sorted(item))].append(item)\n",
    "    return list(anagram.values())"
   ]
  },
  {
   "cell_type": "code",
   "execution_count": 25,
   "id": "4fdb98e2",
   "metadata": {},
   "outputs": [
    {
     "data": {
      "text/plain": [
       "[['eat', 'tea', 'ate'], ['tan', 'nat'], ['bat']]"
      ]
     },
     "execution_count": 25,
     "metadata": {},
     "output_type": "execute_result"
    }
   ],
   "source": [
    "group_anagrams(inputs)"
   ]
  },
  {
   "cell_type": "markdown",
   "id": "ba433e2c",
   "metadata": {},
   "source": [
    "## sorted"
   ]
  },
  {
   "cell_type": "code",
   "execution_count": 26,
   "id": "4da8aae7",
   "metadata": {},
   "outputs": [],
   "source": [
    "a = [\"cde\", \"cfc\", \"abc\"]"
   ]
  },
  {
   "cell_type": "code",
   "execution_count": 27,
   "id": "64e71dd3",
   "metadata": {},
   "outputs": [
    {
     "data": {
      "text/plain": [
       "['abc', 'cde', 'cfc']"
      ]
     },
     "execution_count": 27,
     "metadata": {},
     "output_type": "execute_result"
    }
   ],
   "source": [
    "sorted(a)"
   ]
  },
  {
   "cell_type": "code",
   "execution_count": 28,
   "id": "b570ba1e",
   "metadata": {},
   "outputs": [
    {
     "data": {
      "text/plain": [
       "['cde', 'cfc', 'abc']"
      ]
     },
     "execution_count": 28,
     "metadata": {},
     "output_type": "execute_result"
    }
   ],
   "source": [
    "sorted(a, key=len)"
   ]
  },
  {
   "cell_type": "code",
   "execution_count": 29,
   "id": "aff93e34",
   "metadata": {},
   "outputs": [
    {
     "data": {
      "text/plain": [
       "['abc', 'cfc', 'cde']"
      ]
     },
     "execution_count": 29,
     "metadata": {},
     "output_type": "execute_result"
    }
   ],
   "source": [
    "def fn(s):\n",
    "    return s[0], s[-1]\n",
    "\n",
    "sorted(a, key=fn)"
   ]
  },
  {
   "cell_type": "code",
   "execution_count": 30,
   "id": "40f44f4e",
   "metadata": {},
   "outputs": [
    {
     "data": {
      "text/plain": [
       "['abc', 'cfc', 'cde']"
      ]
     },
     "execution_count": 30,
     "metadata": {},
     "output_type": "execute_result"
    }
   ],
   "source": [
    "sorted(a, key=lambda s: (s[0], s[-1]))"
   ]
  },
  {
   "cell_type": "markdown",
   "id": "9d7edad4",
   "metadata": {},
   "source": [
    "# Longest Palindrome Substring"
   ]
  },
  {
   "cell_type": "markdown",
   "id": "4341e868",
   "metadata": {},
   "source": [
    "가장 긴 팰린드롬 부분 문자열을 출력하라"
   ]
  },
  {
   "cell_type": "code",
   "execution_count": 31,
   "id": "e2f11643",
   "metadata": {},
   "outputs": [],
   "source": [
    "input0 = \"babad\"\n",
    "input1 = \"cbbd\""
   ]
  },
  {
   "cell_type": "code",
   "execution_count": 32,
   "id": "b7e26335",
   "metadata": {},
   "outputs": [],
   "source": [
    "def expand(s:str, left: int, right: int) -> str:\n",
    "    while left >= 0 and right < len(s) \\\n",
    "        and s[left] == s[right]:\n",
    "        left -= 1\n",
    "        right += 1\n",
    "    return s[left + 1:right]"
   ]
  },
  {
   "cell_type": "code",
   "execution_count": 33,
   "id": "73e83904",
   "metadata": {},
   "outputs": [],
   "source": [
    "def logest_palindrom(s: str) -> str:\n",
    "    if len(s) < 2 or s == s[::-1]:\n",
    "        return s\n",
    "    result = \"\"\n",
    "    for i in range(len(s) - 1):\n",
    "        even = expand(s, i, i+1)\n",
    "        odd = expand(s, i, i+2)\n",
    "        result = max(result, \n",
    "                     odd, \n",
    "                     even, \n",
    "                     key=len)\n",
    "        print(\"odd\", odd, \"even\", even)\n",
    "    return result"
   ]
  },
  {
   "cell_type": "code",
   "execution_count": 34,
   "id": "299b03b4",
   "metadata": {},
   "outputs": [
    {
     "name": "stdout",
     "output_type": "stream",
     "text": [
      "odd bab even \n",
      "odd aba even \n",
      "odd a even \n",
      "odd d even \n"
     ]
    },
    {
     "data": {
      "text/plain": [
       "'bab'"
      ]
     },
     "execution_count": 34,
     "metadata": {},
     "output_type": "execute_result"
    }
   ],
   "source": [
    "logest_palindrom(input0)"
   ]
  },
  {
   "cell_type": "code",
   "execution_count": 35,
   "id": "15ba5dfd",
   "metadata": {},
   "outputs": [
    {
     "name": "stdout",
     "output_type": "stream",
     "text": [
      "odd b even \n",
      "odd b even bb\n",
      "odd d even \n"
     ]
    },
    {
     "data": {
      "text/plain": [
       "'bb'"
      ]
     },
     "execution_count": 35,
     "metadata": {},
     "output_type": "execute_result"
    }
   ],
   "source": [
    "logest_palindrom(input1)"
   ]
  },
  {
   "cell_type": "code",
   "execution_count": 36,
   "id": "148b7aa8",
   "metadata": {},
   "outputs": [
    {
     "name": "stdout",
     "output_type": "stream",
     "text": [
      "odd 2 even \n",
      "odd 3 even \n",
      "odd 4 even \n",
      "odd 123454321 even \n",
      "odd 4 even \n",
      "odd 3 even \n",
      "odd 2 even \n",
      "odd 1 even \n",
      "odd 1 even 11\n"
     ]
    },
    {
     "data": {
      "text/plain": [
       "'123454321'"
      ]
     },
     "execution_count": 36,
     "metadata": {},
     "output_type": "execute_result"
    }
   ],
   "source": [
    "logest_palindrom(\"1234543211\")"
   ]
  },
  {
   "cell_type": "code",
   "execution_count": null,
   "id": "b339e987",
   "metadata": {},
   "outputs": [],
   "source": []
  },
  {
   "cell_type": "code",
   "execution_count": null,
   "id": "1b0fcb8a",
   "metadata": {},
   "outputs": [],
   "source": []
  }
 ],
 "metadata": {
  "kernelspec": {
   "display_name": "Python 3",
   "language": "python",
   "name": "python3"
  },
  "language_info": {
   "codemirror_mode": {
    "name": "ipython",
    "version": 3
   },
   "file_extension": ".py",
   "mimetype": "text/x-python",
   "name": "python",
   "nbconvert_exporter": "python",
   "pygments_lexer": "ipython3",
   "version": "3.8.10"
  }
 },
 "nbformat": 4,
 "nbformat_minor": 5
}
