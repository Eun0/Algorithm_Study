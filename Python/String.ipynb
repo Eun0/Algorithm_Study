{
 "cells": [
  {
   "cell_type": "code",
   "execution_count": 1,
   "id": "e86e2ad8",
   "metadata": {},
   "outputs": [],
   "source": [
    "import re"
   ]
  },
  {
   "cell_type": "code",
   "execution_count": 6,
   "id": "41ddb6b0",
   "metadata": {},
   "outputs": [],
   "source": [
    "a = \" a man in the mirror \""
   ]
  },
  {
   "cell_type": "code",
   "execution_count": 7,
   "id": "d399291f",
   "metadata": {},
   "outputs": [
    {
     "data": {
      "text/plain": [
       "'amaninthemirror'"
      ]
     },
     "execution_count": 7,
     "metadata": {},
     "output_type": "execute_result"
    }
   ],
   "source": [
    "re.sub(\"[^\\w]\", \"\", a)"
   ]
  },
  {
   "cell_type": "code",
   "execution_count": 8,
   "id": "e0fb52bc",
   "metadata": {},
   "outputs": [
    {
     "data": {
      "text/plain": [
       "'a man in the mirror'"
      ]
     },
     "execution_count": 8,
     "metadata": {},
     "output_type": "execute_result"
    }
   ],
   "source": [
    "a.strip()"
   ]
  },
  {
   "cell_type": "code",
   "execution_count": null,
   "id": "cac7b9c4",
   "metadata": {},
   "outputs": [],
   "source": []
  }
 ],
 "metadata": {
  "kernelspec": {
   "display_name": "Python 3",
   "language": "python",
   "name": "python3"
  },
  "language_info": {
   "codemirror_mode": {
    "name": "ipython",
    "version": 3
   },
   "file_extension": ".py",
   "mimetype": "text/x-python",
   "name": "python",
   "nbconvert_exporter": "python",
   "pygments_lexer": "ipython3",
   "version": "3.8.10"
  }
 },
 "nbformat": 4,
 "nbformat_minor": 5
}
